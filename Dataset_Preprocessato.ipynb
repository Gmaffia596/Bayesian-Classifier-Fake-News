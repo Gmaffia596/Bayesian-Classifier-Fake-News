{
 "cells": [
  {
   "cell_type": "markdown",
   "metadata": {},
   "source": [
    " ## Il classificatore Baesyano come approccio linguistico alla individuazione automatica delle Fake News pt.1\n",
    " \n",
    "L'elaborato nasce dalla volontà di scoprire, utilizzando algoritmi di machine learning e data mining, quali siano gli attributi caratteristici delle fake news, e se è possibile utilizzare un metodo automatico per comprendere se un testo è falso o vero. \n",
    "\n",
    "L'obbiettivo di questo progetto è quello di allenare un classificatore Baesyano su un dataset di notizie, composto da due fold: uno di fake news, e l'altro di notizie vere, ponendosi come vincolo l'attuazione di tutte le strategie per rendere il risultato il più accurato e robusto possibile.\n",
    "\n",
    "Il dataset utilizzato è interamente in lingua inglese ed è stato creato utilizzando [snopes](www.snopes.com) come fonte; il sito giornalistico è stato scelto in quanto affidabile e soprattuto perchè contiene il link agli articoli di fake news originali, facendo si che la base dati utilizzata per questo progetto sia effettivamente quella che gli utenti si trovano davanti navigando in rete. \n",
    "\n",
    "La classificazione avverà su due base dati differenti:\n",
    "1) Dataset non pre-processato, ovvero gli articoli verranno analizzati 'as is', senza manipolazione; \n",
    "2) Dataset pre-processato, ovvero al testo degli articoli verranno applicati tutti gli accorgimenti per disambiguare il significato delle parole all'interno del testo (Tokenizzazione - POS Tagging - Lemmatizzazione)."
   ]
  },
  {
   "cell_type": "markdown",
   "metadata": {},
   "source": [
    "Questa seconda analisi viene effettuata su una classificazione con preprocessing, nella quale verranno analizzati gli articoli manipolati: essi infatti subiranno un processo di tokenizzazione (verranno eliminati gli spazi), un processo di POS Tagging (ovvero verrà applicato un tag specifico a ogni parola in base alla sua categoria grammaticale) e un processo di lemmatizzazione (ovvero ogni parola verrà ridotta alla sua forma canonica). \n",
    "Questo preprocessing si prevede aumenterà il carattere informativo di ogni feature: sopratutto in lingua inglese infatti, la stessa parola può avere significati diversi, quindi differenziandone le varie sfumature di significato, si potrà avere un potere di generalizazione migliore."
   ]
  },
  {
   "cell_type": "code",
   "execution_count": 1,
   "metadata": {
    "collapsed": true
   },
   "outputs": [],
   "source": [
    "import nltk \n",
    "from nltk import *\n",
    "from nltk.corpus.reader import CategorizedPlaintextCorpusReader\n",
    "from nltk.corpus import wordnet as wn\n",
    "import pandas as pd\n",
    "import re, string\n",
    "from nltk.stem import WordNetLemmatizer\n",
    "from __future__ import print_function\n",
    "\n",
    "wnl = WordNetLemmatizer()\n",
    "\n",
    "def univ_pos_changer(stringa):\n",
    "    if stringa==\"NOUN\":\n",
    "        return \"n\"\n",
    "    elif stringa==\"VERB\":\n",
    "        return \"v\"\n",
    "    elif stringa==\"ADJ\":\n",
    "        return \"a\"\n",
    "    elif stringa==\"ADV\":\n",
    "        return \"r\"\n",
    "    else:\n",
    "        return None\n",
    "\n",
    "def my_lemmatizer(frase):\n",
    "    lista1 = []\n",
    "    for parole in frase:\n",
    "        word =parole.split(\"__\")[0].lower()\n",
    "        tag = parole.split(\"__\")[1]\n",
    "\n",
    "        if univ_pos_changer(tag) == None:\n",
    "            lista1.append(wnl.lemmatize(word.replace(\"_\",\"\"))+\"__\"+tag)\n",
    "        elif(wn.morphy(word,univ_pos_changer(tag)) == None):\n",
    "            lista1.append(wnl.lemmatize(word.replace(\"_\",\"\"))+\"__\"+tag)\n",
    "        else:\n",
    "            lista1.append(wn.morphy(word,univ_pos_changer(tag))+\"__\"+tag)\n",
    "    return lista1"
   ]
  },
  {
   "cell_type": "markdown",
   "metadata": {},
   "source": [
    "La metodologia di caricamento del dataset è la medesima del programma precedente, mentre in questo caso viene aggiunta una parte dedita alla lemmatizzazione.\n",
    "Per la lemmatizzazione viene utilizzato Wordnet, in due casi differenti. \n",
    "Nel primo caso, per nomi, verbi, aggettivi e avverbi, si utilizza la funzione morphy(), mentre per il resto viene utilizzata la funzione lemmatize() di WordNetLemmatizer().\n",
    "La funzione univ_pos_tagger() viene utilizzata per 'tradurre' i tag dalla forma utilizzata da nltk alla forma utilizzata da Wordnet (nltk tagga i nomi come\"NOUN\", mentre Wordy prevede tag monocarattere, quindi \"n\".)"
   ]
  },
  {
   "cell_type": "code",
   "execution_count": 2,
   "metadata": {
    "collapsed": false
   },
   "outputs": [
    {
     "name": "stdout",
     "output_type": "stream",
     "text": [
      "Articoli totali: 1127\n"
     ]
    }
   ],
   "source": [
    "import nltk\n",
    "from nltk import *\n",
    "import random \n",
    "from nltk.corpus.reader import CategorizedPlaintextCorpusReader\n",
    "\n",
    "file = \"snopes/dataset\"\n",
    "collCategorized= CategorizedPlaintextCorpusReader(file, r'.*\\.txt', cat_pattern=r'(\\w+)/*')\n",
    "documents1 =[(list(collCategorized.words(fileid)), category) for category in collCategorized.categories() for fileid in collCategorized.fileids(category)]\n",
    "\n",
    "random.shuffle(documents1)\n",
    "print(\"Articoli totali: {}\".format(len(documents1)))"
   ]
  },
  {
   "cell_type": "markdown",
   "metadata": {},
   "source": [
    "Il caricamento del dataset avviene utilizzando la stessa procedura del programma precedente. "
   ]
  },
  {
   "cell_type": "code",
   "execution_count": 3,
   "metadata": {
    "collapsed": false
   },
   "outputs": [
    {
     "name": "stdout",
     "output_type": "stream",
     "text": [
      "1127° articoli di 1127 POS taggati! \r"
     ]
    }
   ],
   "source": [
    "corpus = []\n",
    "corpus_tagged = []\n",
    "i = 0;\n",
    "for j in documents1:\n",
    "    text = j[0]\n",
    "    cat = j[1]\n",
    "    tagged = nltk.pos_tag(word_tokenize(\" \".join(text)),tagset=\"universal\")\n",
    "    corpus.append(([a.replace(\"_\",\"\").replace(\"_\",\"\")+\"__\"+b.replace(\"_\",\"\") for a,b in tagged],cat))\n",
    "    corpus_tagged.append((my_lemmatizer(corpus[i][0]),corpus[i][1]))\n",
    "    i = i+1\n",
    "    print(\"\\r{}° articoli di {} POS taggati! \\r\".format(i,len(documents1)), end='')"
   ]
  },
  {
   "cell_type": "markdown",
   "metadata": {},
   "source": [
    "La tokenizzazione e il POS Tagging avvengono utilizzando le funzioni di nltk. Il delimitatore tra parola è tag è un doppio carattere speciale  , che poi sarà lemmatizzato dalla funzione my_lemmatizer() vista in precedenza. \n",
    "Il dataset finale (ovvero corpus_tagged) quindi sarà composto da: \n",
    "######  [(articolo ,categoria), (articolo1,categoria1) ... (articolon,categorian)]\n",
    "con articolo compreso di:\n",
    "\n",
    "######  [parola_tag, parola1_tag1, ... , parolan_tagn].\n",
    "\n",
    "con articolo s'intende un articolo fisico all'interno del dataset 'Snopes'\n",
    "\n",
    "con parola s'intende un elemento all'interno dell'articolo \n",
    "\n",
    "con tag s'intende la categoria grammaticale che identifica la parola,  \n",
    "\n",
    "con categoria s'intende la tipologia d'appartenenza dell'articolo, intesa come 'fake' o 'legit'."
   ]
  },
  {
   "cell_type": "code",
   "execution_count": 4,
   "metadata": {
    "collapsed": false
   },
   "outputs": [
    {
     "name": "stdout",
     "output_type": "stream",
     "text": [
      "TAG analysis on corpus:\n"
     ]
    },
    {
     "data": {
      "image/png": "[encoded data removed]",
      "text/plain": [
       "<matplotlib.figure.Figure at 0xf33b45add8>"
      ]
     },
     "metadata": {},
     "output_type": "display_data"
    },
    {
     "name": "stdout",
     "output_type": "stream",
     "text": [
      "  NOUN   VERB      .    ADP    DET    ADJ   PRON    ADV    NUM    PRT   CONJ      X \n",
      "770157 342773 248129 209353 181437 130653 113075  81025  67495  62986  51365   2459 \n"
     ]
    }
   ],
   "source": [
    "import matplotlib.pyplot as plt\n",
    "print(\"TAG analysis on corpus:\")\n",
    "stat = []\n",
    "count = 0\n",
    "dev = []\n",
    "false = []\n",
    "true = []\n",
    "while count < len(corpus_tagged):\n",
    "    if corpus_tagged[count][1]==\"legit\":\n",
    "        for i in corpus_tagged[count][0]:\n",
    "            true.append((i.split(\"__\")[0],i.split(\"__\")[1]))\n",
    "    if corpus_tagged[count][1]==\"fake\":\n",
    "        for i in corpus_tagged[count][0]:\n",
    "            false.append((i.split(\"__\")[0],i.split(\"__\")[1]))\n",
    "    for i in corpus_tagged[count][0]:\n",
    "            stat.append((i.split(\"__\")[0],i.split(\"__\")[1]))\n",
    "    count = count +1\n",
    "    \n",
    "fig = plt.figure(1)\n",
    "ax = fig.add_subplot(111)\n",
    "plt.title('Tag distribution')\n",
    "\n",
    "tag_fd = nltk.FreqDist(tag for (word,tag) in stat)\n",
    "tag_fd.most_common()\n",
    "tag_fd.plot(cumulative=True)\n",
    "tag_fd.tabulate()\n",
    "plt.show()\n",
    "fig.savefig(\"Tag_distribution\",dpi=400)"
   ]
  },
  {
   "cell_type": "markdown",
   "metadata": {},
   "source": [
    "Il POS tag è avvenuto con successo, e il grafico mostra la distribuzione dei tag all'interno del corpus.\n",
    "\n",
    "Con NOUN s'intende i sostantivi \n",
    "\n",
    "con VERB s'intende verbi lemmatizzati\n",
    "\n",
    "con . s'intende la punteggiatura \n",
    "\n",
    "con ADP s'intende le apposizioni\n",
    "\n",
    "con DET s'intende gli articoli determinativi e indeterminativi\n",
    "\n",
    "con ADJ s'intende gli aggettivi\n",
    "\n",
    "con PRON s'intende i pronomi\n",
    "\n",
    "con ADV s'intende gli avverbi\n",
    "\n",
    "con NUM s'intende le cifre \n",
    "\n",
    "con PRT s'intende le particelle\n",
    "\n",
    "con CONJ s'intende le congiunzioni \n",
    "\n",
    "con X s'intende le parole che non appartengono a nessuna categoria grammaticale sopra riportata (errori di battitura, emotiocon...)"
   ]
  },
  {
   "cell_type": "code",
   "execution_count": 5,
   "metadata": {
    "collapsed": false
   },
   "outputs": [
    {
     "data": {
      "image/png": "[encoded data removed]",
      "text/plain": [
       "<matplotlib.figure.Figure at 0xf3194a3f60>"
      ]
     },
     "metadata": {},
     "output_type": "display_data"
    },
    {
     "name": "stdout",
     "output_type": "stream",
     "text": [
      "  NOUN   VERB      .    ADP    DET   PRON    ADJ    NUM    ADV    PRT   CONJ      X \n",
      "481497 194666 151771 111208  96094  73230  71651  48773  48088  39497  26713   1155 \n"
     ]
    }
   ],
   "source": [
    "fig = plt.figure(1)\n",
    "ax = fig.add_subplot(111)\n",
    "plt.title('Fakes tag distribution')\n",
    "\n",
    "tag_fd = nltk.FreqDist(tag for (word,tag) in false)\n",
    "tag_fd.most_common()\n",
    "tag_fd.plot(cumulative=True)\n",
    "tag_fd.tabulate()\n",
    "\n",
    "plt.show()\n",
    "fig.savefig(\"Tag_fakes_distribution\",dpi=400)"
   ]
  },
  {
   "cell_type": "markdown",
   "metadata": {},
   "source": [
    "Grafico che mostra la distribuzione dei tag all'interno degli articoli di categoria 'FAKE'.\n",
    "Si nota come vi è un forte utilizzo della punteggiatura."
   ]
  },
  {
   "cell_type": "code",
   "execution_count": 6,
   "metadata": {
    "collapsed": false
   },
   "outputs": [
    {
     "name": "stdout",
     "output_type": "stream",
     "text": [
      "Tag distribution of trues\n"
     ]
    },
    {
     "data": {
      "image/png": "[encoded data removed]",
      "text/plain": [
       "<matplotlib.figure.Figure at 0xf36be4af60>"
      ]
     },
     "metadata": {},
     "output_type": "display_data"
    },
    {
     "name": "stdout",
     "output_type": "stream",
     "text": [
      "  NOUN   VERB    ADP      .    DET    ADJ   PRON    ADV   CONJ    PRT    NUM      X \n",
      "288660 148107  98145  96358  85343  59002  39845  32937  24652  23489  18722   1304 \n"
     ]
    }
   ],
   "source": [
    "fig = plt.figure(1)\n",
    "ax = fig.add_subplot(111)\n",
    "plt.title('Trues tag distribution')\n",
    "\n",
    "tag_fd = nltk.FreqDist(tag for (word,tag) in true)\n",
    "tag_fd.most_common()\n",
    "print(\"Tag distribution of trues\")\n",
    "tag_fd.plot(cumulative=True)\n",
    "tag_fd.tabulate()\n",
    "\n",
    "plt.show()\n",
    "fig.savefig(\"Tag_trues_distribution\",dpi=400)"
   ]
  },
  {
   "cell_type": "markdown",
   "metadata": {},
   "source": [
    "Grafico che mostra la distribuzione dei tag all'interno degli articoli di categoria 'TRUE'."
   ]
  },
  {
   "cell_type": "code",
   "execution_count": 7,
   "metadata": {
    "collapsed": false
   },
   "outputs": [
    {
     "name": "stdout",
     "output_type": "stream",
     "text": [
      "Numero totale parole: 2260907 \n",
      "Grandezza dizionario: 33263\n"
     ]
    }
   ],
   "source": [
    "words = []\n",
    "for articoli in corpus_tagged:\n",
    "    for testo in articoli[0]: \n",
    "        words.append(testo)\n",
    "\n",
    "listaFreq=nltk.FreqDist(w for w in words)\n",
    "word_features=[x for (x,_) in listaFreq.most_common()]\n",
    "    \n",
    "def document_features(document,a,b):\n",
    "    document_words=set(document)\n",
    "    features={}\n",
    "    for word in word_features:\n",
    "        features[\"contains({})\".format(word)]=(word in document_words)\n",
    "    return features\n",
    "\n",
    "print(\"Numero totale parole: {} \\nGrandezza dizionario: {}\".format(len(words),len(listaFreq)))"
   ]
  },
  {
   "cell_type": "markdown",
   "metadata": {},
   "source": [
    "Viene creata la lista di frequenze delle parole all'interno del corpus: essa verrà utilizzata nella creazione delle features.\n",
    "Utilizzando una tecnica di POS Tagging, la lunghezza del dizionario è cambiata: da 31907 del primo progetto si arriva a 33375, facendo rimanere invariato il numero di parole totali; in questo modo è aumentato il valore informativo di ogni parola, in quanto è stato differenziato il significato."
   ]
  },
  {
   "cell_type": "code",
   "execution_count": 8,
   "metadata": {
    "collapsed": false
   },
   "outputs": [
    {
     "name": "stdout",
     "output_type": "stream",
     "text": [
      "Accuratezza classificazione: 89.15187376725838\n",
      "Most Informative Features\n",
      "        contains('__PRT) = True             fake : legit  =     25.7 : 1.0\n",
      "     contains(who__NOUN) = True             fake : legit  =     15.7 : 1.0\n",
      "contains(recommend__VERB) = True             fake : legit  =     15.7 : 1.0\n",
      "   contains(share__NOUN) = True             fake : legit  =     15.2 : 1.0\n",
      "      contains(no__NOUN) = True             fake : legit  =     14.1 : 1.0\n",
      "          contains('__.) = True             fake : legit  =     13.4 : 1.0\n",
      "  contains(google__NOUN) = True             fake : legit  =     12.4 : 1.0\n",
      "  contains(device__NOUN) = True             fake : legit  =     12.4 : 1.0\n",
      "     contains(how__NOUN) = True             fake : legit  =     12.4 : 1.0\n",
      "        contains(0__NUM) = True             fake : legit  =     11.7 : 1.0\n"
     ]
    }
   ],
   "source": [
    "featuresets_doc=[(document_features(d,0,len(listaFreq.most_common())), c) for (d, c) in corpus_tagged]\n",
    "size = int(len(featuresets_doc) * 0.9)\n",
    "train_set_doc, test_set_doc = featuresets_doc[size:], featuresets_doc[:size]\n",
    "classifier_doc=nltk.NaiveBayesClassifier.train(train_set_doc)\n",
    "\n",
    "print(\"Accuratezza classificazione: {}\".format(nltk.classify.accuracy(classifier_doc, test_set_doc)*100))\n",
    "range_data = nltk.classify.accuracy(classifier_doc, test_set_doc)*100\n",
    "classifier_doc.show_most_informative_features(10)"
   ]
  },
  {
   "cell_type": "markdown",
   "metadata": {},
   "source": [
    "La classificazione segue le stesse regole della precedente, e ci permette di avere una prima analisi: \n",
    "la classificazione senza preprocessing ha avuto un'accuratezza di circa 80%, mentre utilizzando il preprocessing si ha una classificazione del 89.84%, ovvero migliore di circa del 9%.\n",
    "La differenziazione del significato di ogni singola parola e la sua lemmatizzazione ha giocato un ruolo chiave nel migliorare la prestazione."
   ]
  },
  {
   "cell_type": "code",
   "execution_count": 9,
   "metadata": {
    "collapsed": false,
    "scrolled": true
   },
   "outputs": [
    {
     "name": "stdout",
     "output_type": "stream",
     "text": [
      "Cross validation on 10 fold:\n"
     ]
    },
    {
     "name": "stderr",
     "output_type": "stream",
     "text": [
      "C:\\Users\\matteo.mazzola\\Downloads\\WinPython-64bit-3.6.3.0Qt5\\python-3.6.3.amd64\\lib\\site-packages\\sklearn\\cross_validation.py:41: DeprecationWarning: This module was deprecated in version 0.18 in favor of the model_selection module into which all the refactored classes and functions are moved. Also note that the interface of the new CV iterators are different from that of this module. This module will be removed in 0.20.\n",
      "  \"This module will be removed in 0.20.\", DeprecationWarning)\n"
     ]
    },
    {
     "name": "stdout",
     "output_type": "stream",
     "text": [
      "Accuracy 1° fold: 0.818\n",
      "Accuracy 2° fold: 1.000\n",
      "Accuracy 3° fold: 0.818\n",
      "Accuracy 4° fold: 1.000\n",
      "Accuracy 5° fold: 1.000\n",
      "Accuracy 6° fold: 1.000\n",
      "Accuracy 7° fold: 1.000\n",
      "Accuracy 8° fold: 1.000\n",
      "Accuracy 9° fold: 1.000\n",
      "Accuracy 10° fold: 0.900\n"
     ]
    }
   ],
   "source": [
    "print(\"Cross validation on 10 fold:\")\n",
    "from sklearn import cross_validation\n",
    "cv = cross_validation.KFold(len(train_set_doc), n_folds=10, shuffle=False, random_state=None)\n",
    "i = 1\n",
    "for traincv, evalcv in cv:\n",
    "    classifier = nltk.NaiveBayesClassifier.train(train_set_doc[traincv[0]:traincv[len(traincv)-1]])\n",
    "    print('Accuracy '+str(i)+'° fold: %.3f' % nltk.classify.util.accuracy(classifier, train_set_doc[evalcv[0]:evalcv[len(evalcv)-1]]))  \n",
    "    i = i+1"
   ]
  },
  {
   "cell_type": "markdown",
   "metadata": {},
   "source": [
    "La crossvalidation è un metodo di verifica della bontà di una classificazione: l'intero insieme di feature viene diviso in folds, ovvero parti più piccole del dataset in cui verrà praticata la classificazione. Questo permette di mettere in luce errori dovuti  alla scarsa generalizzazione del modello: se i risultati attraverso i vari fold non sono troppo differenti, allora la classificazione si può definire robusta. "
   ]
  },
  {
   "cell_type": "markdown",
   "metadata": {},
   "source": [
    "La classificazione sull'intero dataset porta un'accuratezza circa dell'89%. \n",
    "\n",
    "Ma è questa l'accuratezza massima che può avere il modello? "
   ]
  },
  {
   "cell_type": "markdown",
   "metadata": {},
   "source": [
    "## Test sull'accuratezza della classificazione\n",
    "\n",
    "La base dati di una classificazione ottimale non comprende tutti gli elementi all'interno del dataset: più feature si sono, più si rischia di diluire le vere evidenze della categoria con feature dal valore informativo basso o nullo. \n",
    "Questo è facilmente intuibile pensando a come parole dal basso contenuto informativo, come articoli o congiunzioni, siano molto più frequenti rispetto a elementi altamente informativi, come verbi o nomi.\n",
    "Per questo motivo è necessario trovare una porzione di frequenza la quale classificazione dia un'accuratezza massima, in modo da avere una buona sorgente di informazioni il più predittive possibile della categoria a cui si riferiscono. \n",
    "La ricerca di questo range non può essere che effettuata mediante valutazioni empiriche: di seguito vi è la divisione delle parole più frequenti in porzioni dall'ampiezza variabile, in modo da verificare quando si ha un'accuratezza maggiore.\n",
    "\n",
    "La frequenza relativa delle parole è stata divisa in slices:\n",
    "\n",
    "    partendo da 0 con il primo slice da 500, porzioni da 100 (0-500, 500-600, 600-700 ...)\n",
    "    \n",
    "    partendo da 0 con il primo slice da 700, porzioni da 100 (0-700, 700-800, 800-900 ...)\n",
    "    \n",
    "    partendo da 0, slice da 500 incrementali (0-5000, 0-1000, 0,1500 ...)\n",
    "    \n",
    "    partendo da 0, porzioni da 500 (0-500, 500-1000, 1000-1500 ...)\n",
    "    \n",
    "    partendo da 0, porzioni da 700 (0-700, 7000-1400, 700-1400 ...)\n",
    "    \n",
    "    partendo da 0, porzioni da 1000 (0-1000, 1000-2000, 2000-3000 ...)"
   ]
  },
  {
   "cell_type": "code",
   "execution_count": 10,
   "metadata": {
    "collapsed": true
   },
   "outputs": [],
   "source": [
    "import matplotlib.pyplot as plt\n",
    "import pandas as pd\n",
    "\n",
    "def test_Accuracy(principio, final,parte,veces,caja,incr):\n",
    "    x = 1\n",
    "    while(x <= count):\n",
    "        featuresets_doc=[(document_features(d,principio,final), c) for (d, c) in corpus_tagged]\n",
    "        size = int(len(featuresets_doc) * 0.9)\n",
    "        train_set_doc, test_set_doc = featuresets_doc[size:], featuresets_doc[:size]\n",
    "        classifier_doc=nltk.NaiveBayesClassifier.train(train_set_doc)\n",
    "        print(\"\\r{}° Range: {} to {} most frequent words, Accuracy: {}\".format(x,principio,final,nltk.classify.accuracy(classifier_doc, test_set_doc)*100),end='')\n",
    "        caja.append(nltk.classify.accuracy(classifier_doc, test_set_doc)*100)\n",
    "        if (incr==True):\n",
    "            principio,final = principio+parte,final+parte\n",
    "        else:\n",
    "            principio,final = principio,final+parte\n",
    "        x = x+1\n",
    "    return caja\n",
    "\n",
    "def dibujar(caja,count,parte):\n",
    "    print(\"\\n Grafico 1 in corso...\")\n",
    "    plt.plot(caja,'r')\n",
    "    plt.xlabel(\"Range: {} word\".format(parte))\n",
    "    plt.ylabel(\"Accuracy\")\n",
    "    plt.show()\n",
    "    print(\"\\n Grafico 2 in corso...\")    \n",
    "    plt.plot(caja, 'r--o')\n",
    "    plt.axis([0,count,10,100])\n",
    "    plt.xlabel(\"Range: {} word\".format(parte))\n",
    "    plt.ylabel(\"Accuracy\")\n",
    "    plt.show()\n",
    "    \n",
    "def document_features(document,principio,final):\n",
    "    document_words=set(document)\n",
    "    features={}\n",
    "    word_features=[x for (x,_) in listaFreq.most_common()[principio:final]]\n",
    "    for word in word_features:\n",
    "        features[\"contains({})\".format(word)]=(word in document_words)\n",
    "    return features"
   ]
  },
  {
   "cell_type": "markdown",
   "metadata": {},
   "source": [
    "La segmentazione delle frequenze avviene nella funzione test_Accuracy, nella quale ripetiamo per 15 volte una classificazione su uno slice sempre diverso di frequenze, in modo da osservare l'andamento dell'accuratezza in base al variare delle parole in ingresso.\n",
    "In questo modo si tolgono dalla classificazione parole sempre più frequenti e si aggiungono parole sempre meno frequenti, trovando alla fine una finestra di compromesso. \n",
    "\n",
    "Dibujar è la funzione che ci permette di visualizzare il risultato di ogni classificazione attraverso un grafico."
   ]
  },
  {
   "cell_type": "code",
   "execution_count": 11,
   "metadata": {
    "collapsed": false
   },
   "outputs": [
    {
     "name": "stdout",
     "output_type": "stream",
     "text": [
      "15° Range: 1400 to 1900 most frequent words, Accuracy: 82.84023668639054\n",
      " Grafico 1 in corso...\n"
     ]
    },
    {
     "data": {
      "image/png": "[encoded data removed]",
      "text/plain": [
       "<matplotlib.figure.Figure at 0xf36bd61128>"
      ]
     },
     "metadata": {},
     "output_type": "display_data"
    },
    {
     "name": "stdout",
     "output_type": "stream",
     "text": [
      "\n",
      " Grafico 2 in corso...\n"
     ]
    },
    {
     "data": {
      "image/png": "[encoded data removed]",
      "text/plain": [
       "<matplotlib.figure.Figure at 0xf36be225f8>"
      ]
     },
     "metadata": {},
     "output_type": "display_data"
    },
    {
     "data": {
      "text/html": [
       "<div>\n",
       "<style scoped>\n",
       "    .dataframe tbody tr th:only-of-type {\n",
       "        vertical-align: middle;\n",
       "    }\n",
       "\n",
       "    .dataframe tbody tr th {\n",
       "        vertical-align: top;\n",
       "    }\n",
       "\n",
       "    .dataframe thead th {\n",
       "        text-align: right;\n",
       "    }\n",
       "</style>\n",
       "<table border=\"1\" class=\"dataframe\">\n",
       "  <thead>\n",
       "    <tr style=\"text-align: right;\">\n",
       "      <th></th>\n",
       "      <th>Accuracy Accuracy 0-500 con slice 100</th>\n",
       "    </tr>\n",
       "  </thead>\n",
       "  <tbody>\n",
       "    <tr>\n",
       "      <th>0</th>\n",
       "      <td>89.053254</td>\n",
       "    </tr>\n",
       "    <tr>\n",
       "      <th>1</th>\n",
       "      <td>87.968442</td>\n",
       "    </tr>\n",
       "    <tr>\n",
       "      <th>2</th>\n",
       "      <td>88.165680</td>\n",
       "    </tr>\n",
       "    <tr>\n",
       "      <th>3</th>\n",
       "      <td>88.362919</td>\n",
       "    </tr>\n",
       "    <tr>\n",
       "      <th>4</th>\n",
       "      <td>88.461538</td>\n",
       "    </tr>\n",
       "    <tr>\n",
       "      <th>5</th>\n",
       "      <td>88.067061</td>\n",
       "    </tr>\n",
       "    <tr>\n",
       "      <th>6</th>\n",
       "      <td>86.785010</td>\n",
       "    </tr>\n",
       "    <tr>\n",
       "      <th>7</th>\n",
       "      <td>86.489152</td>\n",
       "    </tr>\n",
       "    <tr>\n",
       "      <th>8</th>\n",
       "      <td>85.108481</td>\n",
       "    </tr>\n",
       "    <tr>\n",
       "      <th>9</th>\n",
       "      <td>83.826430</td>\n",
       "    </tr>\n",
       "    <tr>\n",
       "      <th>10</th>\n",
       "      <td>82.544379</td>\n",
       "    </tr>\n",
       "    <tr>\n",
       "      <th>11</th>\n",
       "      <td>84.516765</td>\n",
       "    </tr>\n",
       "    <tr>\n",
       "      <th>12</th>\n",
       "      <td>84.220907</td>\n",
       "    </tr>\n",
       "    <tr>\n",
       "      <th>13</th>\n",
       "      <td>82.544379</td>\n",
       "    </tr>\n",
       "    <tr>\n",
       "      <th>14</th>\n",
       "      <td>82.840237</td>\n",
       "    </tr>\n",
       "  </tbody>\n",
       "</table>\n",
       "</div>"
      ],
      "text/plain": [
       "    Accuracy Accuracy 0-500 con slice 100\n",
       "0                               89.053254\n",
       "1                               87.968442\n",
       "2                               88.165680\n",
       "3                               88.362919\n",
       "4                               88.461538\n",
       "5                               88.067061\n",
       "6                               86.785010\n",
       "7                               86.489152\n",
       "8                               85.108481\n",
       "9                               83.826430\n",
       "10                              82.544379\n",
       "11                              84.516765\n",
       "12                              84.220907\n",
       "13                              82.544379\n",
       "14                              82.840237"
      ]
     },
     "execution_count": 11,
     "metadata": {},
     "output_type": "execute_result"
    }
   ],
   "source": [
    "a = 0\n",
    "b = 500\n",
    "r = 100\n",
    "count = 15\n",
    "res_s0_e500_r100 = []\n",
    "dibujar(test_Accuracy(a,b,r,count,res_s0_e500_r100,True),count,r)\n",
    "pd1 = pd.DataFrame({\"Accuracy Accuracy 0-500 con slice 100\":res_s0_e500_r100})\n",
    "pd1"
   ]
  },
  {
   "cell_type": "code",
   "execution_count": 12,
   "metadata": {
    "collapsed": false
   },
   "outputs": [
    {
     "name": "stdout",
     "output_type": "stream",
     "text": [
      "15° Range: 1400 to 2100 most frequent words, Accuracy: 84.91124260355029\n",
      " Grafico 1 in corso...\n"
     ]
    },
    {
     "data": {
      "image/png": "[encoded data removed]",
      "text/plain": [
       "<matplotlib.figure.Figure at 0xf36bde8160>"
      ]
     },
     "metadata": {},
     "output_type": "display_data"
    },
    {
     "name": "stdout",
     "output_type": "stream",
     "text": [
      "\n",
      " Grafico 2 in corso...\n"
     ]
    },
    {
     "data": {
      "image/png": "[encoded data removed]",
      "text/plain": [
       "<matplotlib.figure.Figure at 0xf33b27c940>"
      ]
     },
     "metadata": {},
     "output_type": "display_data"
    },
    {
     "data": {
      "text/html": [
       "<div>\n",
       "<style scoped>\n",
       "    .dataframe tbody tr th:only-of-type {\n",
       "        vertical-align: middle;\n",
       "    }\n",
       "\n",
       "    .dataframe tbody tr th {\n",
       "        vertical-align: top;\n",
       "    }\n",
       "\n",
       "    .dataframe thead th {\n",
       "        text-align: right;\n",
       "    }\n",
       "</style>\n",
       "<table border=\"1\" class=\"dataframe\">\n",
       "  <thead>\n",
       "    <tr style=\"text-align: right;\">\n",
       "      <th></th>\n",
       "      <th>Accuracy 0-700 con slice 100</th>\n",
       "    </tr>\n",
       "  </thead>\n",
       "  <tbody>\n",
       "    <tr>\n",
       "      <th>0</th>\n",
       "      <td>89.053254</td>\n",
       "    </tr>\n",
       "    <tr>\n",
       "      <th>1</th>\n",
       "      <td>88.658777</td>\n",
       "    </tr>\n",
       "    <tr>\n",
       "      <th>2</th>\n",
       "      <td>88.362919</td>\n",
       "    </tr>\n",
       "    <tr>\n",
       "      <th>3</th>\n",
       "      <td>88.658777</td>\n",
       "    </tr>\n",
       "    <tr>\n",
       "      <th>4</th>\n",
       "      <td>88.264300</td>\n",
       "    </tr>\n",
       "    <tr>\n",
       "      <th>5</th>\n",
       "      <td>87.869822</td>\n",
       "    </tr>\n",
       "    <tr>\n",
       "      <th>6</th>\n",
       "      <td>86.785010</td>\n",
       "    </tr>\n",
       "    <tr>\n",
       "      <th>7</th>\n",
       "      <td>85.798817</td>\n",
       "    </tr>\n",
       "    <tr>\n",
       "      <th>8</th>\n",
       "      <td>85.207101</td>\n",
       "    </tr>\n",
       "    <tr>\n",
       "      <th>9</th>\n",
       "      <td>84.615385</td>\n",
       "    </tr>\n",
       "    <tr>\n",
       "      <th>10</th>\n",
       "      <td>83.925049</td>\n",
       "    </tr>\n",
       "    <tr>\n",
       "      <th>11</th>\n",
       "      <td>84.122288</td>\n",
       "    </tr>\n",
       "    <tr>\n",
       "      <th>12</th>\n",
       "      <td>84.122288</td>\n",
       "    </tr>\n",
       "    <tr>\n",
       "      <th>13</th>\n",
       "      <td>84.023669</td>\n",
       "    </tr>\n",
       "    <tr>\n",
       "      <th>14</th>\n",
       "      <td>84.911243</td>\n",
       "    </tr>\n",
       "  </tbody>\n",
       "</table>\n",
       "</div>"
      ],
      "text/plain": [
       "    Accuracy 0-700 con slice 100\n",
       "0                      89.053254\n",
       "1                      88.658777\n",
       "2                      88.362919\n",
       "3                      88.658777\n",
       "4                      88.264300\n",
       "5                      87.869822\n",
       "6                      86.785010\n",
       "7                      85.798817\n",
       "8                      85.207101\n",
       "9                      84.615385\n",
       "10                     83.925049\n",
       "11                     84.122288\n",
       "12                     84.122288\n",
       "13                     84.023669\n",
       "14                     84.911243"
      ]
     },
     "execution_count": 12,
     "metadata": {},
     "output_type": "execute_result"
    }
   ],
   "source": [
    "a = 0\n",
    "b = 700\n",
    "r = 100\n",
    "count = 15\n",
    "res_s0_e700_r100 = []\n",
    "dibujar(test_Accuracy(a,b,r,count,res_s0_e700_r100,True),count,r)\n",
    "pd2 = pd.DataFrame({\"Accuracy 0-700 con slice 100\":res_s0_e700_r100})\n",
    "pd2"
   ]
  },
  {
   "cell_type": "code",
   "execution_count": 13,
   "metadata": {
    "collapsed": false
   },
   "outputs": [
    {
     "name": "stdout",
     "output_type": "stream",
     "text": [
      "15° Range: 0 to 7500 most frequent words, Accuracy: 87.67258382642999\n",
      " Grafico 1 in corso...\n"
     ]
    },
    {
     "data": {
      "image/png": "[encoded data removed]",
      "text/plain": [
       "<matplotlib.figure.Figure at 0xf36de6f9e8>"
      ]
     },
     "metadata": {},
     "output_type": "display_data"
    },
    {
     "name": "stdout",
     "output_type": "stream",
     "text": [
      "\n",
      " Grafico 2 in corso...\n"
     ]
    },
    {
     "data": {
      "image/png": "[encoded data removed]",
      "text/plain": [
       "<matplotlib.figure.Figure at 0xf36be55b70>"
      ]
     },
     "metadata": {},
     "output_type": "display_data"
    },
    {
     "data": {
      "text/html": [
       "<div>\n",
       "<style scoped>\n",
       "    .dataframe tbody tr th:only-of-type {\n",
       "        vertical-align: middle;\n",
       "    }\n",
       "\n",
       "    .dataframe tbody tr th {\n",
       "        vertical-align: top;\n",
       "    }\n",
       "\n",
       "    .dataframe thead th {\n",
       "        text-align: right;\n",
       "    }\n",
       "</style>\n",
       "<table border=\"1\" class=\"dataframe\">\n",
       "  <thead>\n",
       "    <tr style=\"text-align: right;\">\n",
       "      <th></th>\n",
       "      <th>Accuracy 0-500 con slice 500 incrementale</th>\n",
       "    </tr>\n",
       "  </thead>\n",
       "  <tbody>\n",
       "    <tr>\n",
       "      <th>0</th>\n",
       "      <td>89.053254</td>\n",
       "    </tr>\n",
       "    <tr>\n",
       "      <th>1</th>\n",
       "      <td>89.546351</td>\n",
       "    </tr>\n",
       "    <tr>\n",
       "      <th>2</th>\n",
       "      <td>89.250493</td>\n",
       "    </tr>\n",
       "    <tr>\n",
       "      <th>3</th>\n",
       "      <td>88.658777</td>\n",
       "    </tr>\n",
       "    <tr>\n",
       "      <th>4</th>\n",
       "      <td>88.264300</td>\n",
       "    </tr>\n",
       "    <tr>\n",
       "      <th>5</th>\n",
       "      <td>88.264300</td>\n",
       "    </tr>\n",
       "    <tr>\n",
       "      <th>6</th>\n",
       "      <td>88.461538</td>\n",
       "    </tr>\n",
       "    <tr>\n",
       "      <th>7</th>\n",
       "      <td>88.658777</td>\n",
       "    </tr>\n",
       "    <tr>\n",
       "      <th>8</th>\n",
       "      <td>88.362919</td>\n",
       "    </tr>\n",
       "    <tr>\n",
       "      <th>9</th>\n",
       "      <td>88.165680</td>\n",
       "    </tr>\n",
       "    <tr>\n",
       "      <th>10</th>\n",
       "      <td>88.165680</td>\n",
       "    </tr>\n",
       "    <tr>\n",
       "      <th>11</th>\n",
       "      <td>87.771203</td>\n",
       "    </tr>\n",
       "    <tr>\n",
       "      <th>12</th>\n",
       "      <td>87.771203</td>\n",
       "    </tr>\n",
       "    <tr>\n",
       "      <th>13</th>\n",
       "      <td>87.573964</td>\n",
       "    </tr>\n",
       "    <tr>\n",
       "      <th>14</th>\n",
       "      <td>87.672584</td>\n",
       "    </tr>\n",
       "  </tbody>\n",
       "</table>\n",
       "</div>"
      ],
      "text/plain": [
       "    Accuracy 0-500 con slice 500 incrementale\n",
       "0                                   89.053254\n",
       "1                                   89.546351\n",
       "2                                   89.250493\n",
       "3                                   88.658777\n",
       "4                                   88.264300\n",
       "5                                   88.264300\n",
       "6                                   88.461538\n",
       "7                                   88.658777\n",
       "8                                   88.362919\n",
       "9                                   88.165680\n",
       "10                                  88.165680\n",
       "11                                  87.771203\n",
       "12                                  87.771203\n",
       "13                                  87.573964\n",
       "14                                  87.672584"
      ]
     },
     "execution_count": 13,
     "metadata": {},
     "output_type": "execute_result"
    }
   ],
   "source": [
    "a = 0\n",
    "b = 500\n",
    "r = 500\n",
    "count = 15\n",
    "res_s0_e500_r500_incremental = []\n",
    "dibujar(test_Accuracy(a,b,r,count,res_s0_e500_r500_incremental,False),count,r)\n",
    "pd3 = pd.DataFrame({\"Accuracy 0-500 con slice 500 incrementale\":res_s0_e500_r500_incremental})\n",
    "pd3"
   ]
  },
  {
   "cell_type": "code",
   "execution_count": 14,
   "metadata": {
    "collapsed": false
   },
   "outputs": [
    {
     "name": "stdout",
     "output_type": "stream",
     "text": [
      "15° Range: 7000 to 7500 most frequent words, Accuracy: 63.905325443786985\n",
      " Grafico 1 in corso...\n"
     ]
    },
    {
     "data": {
      "image/png": "[encoded data removed]",
      "text/plain": [
       "<matplotlib.figure.Figure at 0xf36be87400>"
      ]
     },
     "metadata": {},
     "output_type": "display_data"
    },
    {
     "name": "stdout",
     "output_type": "stream",
     "text": [
      "\n",
      " Grafico 2 in corso...\n"
     ]
    },
    {
     "data": {
      "image/png": "[encoded data removed]",
      "text/plain": [
       "<matplotlib.figure.Figure at 0xf36bd505c0>"
      ]
     },
     "metadata": {},
     "output_type": "display_data"
    },
    {
     "data": {
      "text/html": [
       "<div>\n",
       "<style scoped>\n",
       "    .dataframe tbody tr th:only-of-type {\n",
       "        vertical-align: middle;\n",
       "    }\n",
       "\n",
       "    .dataframe tbody tr th {\n",
       "        vertical-align: top;\n",
       "    }\n",
       "\n",
       "    .dataframe thead th {\n",
       "        text-align: right;\n",
       "    }\n",
       "</style>\n",
       "<table border=\"1\" class=\"dataframe\">\n",
       "  <thead>\n",
       "    <tr style=\"text-align: right;\">\n",
       "      <th></th>\n",
       "      <th>Accuracy 0-500 con slice di 500</th>\n",
       "    </tr>\n",
       "  </thead>\n",
       "  <tbody>\n",
       "    <tr>\n",
       "      <th>0</th>\n",
       "      <td>89.053254</td>\n",
       "    </tr>\n",
       "    <tr>\n",
       "      <th>1</th>\n",
       "      <td>88.067061</td>\n",
       "    </tr>\n",
       "    <tr>\n",
       "      <th>2</th>\n",
       "      <td>82.544379</td>\n",
       "    </tr>\n",
       "    <tr>\n",
       "      <th>3</th>\n",
       "      <td>82.051282</td>\n",
       "    </tr>\n",
       "    <tr>\n",
       "      <th>4</th>\n",
       "      <td>81.163708</td>\n",
       "    </tr>\n",
       "    <tr>\n",
       "      <th>5</th>\n",
       "      <td>78.402367</td>\n",
       "    </tr>\n",
       "    <tr>\n",
       "      <th>6</th>\n",
       "      <td>76.232742</td>\n",
       "    </tr>\n",
       "    <tr>\n",
       "      <th>7</th>\n",
       "      <td>75.443787</td>\n",
       "    </tr>\n",
       "    <tr>\n",
       "      <th>8</th>\n",
       "      <td>71.597633</td>\n",
       "    </tr>\n",
       "    <tr>\n",
       "      <th>9</th>\n",
       "      <td>72.386588</td>\n",
       "    </tr>\n",
       "    <tr>\n",
       "      <th>10</th>\n",
       "      <td>69.526627</td>\n",
       "    </tr>\n",
       "    <tr>\n",
       "      <th>11</th>\n",
       "      <td>65.483235</td>\n",
       "    </tr>\n",
       "    <tr>\n",
       "      <th>12</th>\n",
       "      <td>66.074951</td>\n",
       "    </tr>\n",
       "    <tr>\n",
       "      <th>13</th>\n",
       "      <td>64.102564</td>\n",
       "    </tr>\n",
       "    <tr>\n",
       "      <th>14</th>\n",
       "      <td>63.905325</td>\n",
       "    </tr>\n",
       "  </tbody>\n",
       "</table>\n",
       "</div>"
      ],
      "text/plain": [
       "    Accuracy 0-500 con slice di 500\n",
       "0                         89.053254\n",
       "1                         88.067061\n",
       "2                         82.544379\n",
       "3                         82.051282\n",
       "4                         81.163708\n",
       "5                         78.402367\n",
       "6                         76.232742\n",
       "7                         75.443787\n",
       "8                         71.597633\n",
       "9                         72.386588\n",
       "10                        69.526627\n",
       "11                        65.483235\n",
       "12                        66.074951\n",
       "13                        64.102564\n",
       "14                        63.905325"
      ]
     },
     "execution_count": 14,
     "metadata": {},
     "output_type": "execute_result"
    }
   ],
   "source": [
    "a = 0\n",
    "b = 500\n",
    "r = 500\n",
    "count = 15\n",
    "res_s0_e500_r500 = []\n",
    "dibujar(test_Accuracy(a,b,r,count,res_s0_e500_r500,True),count,r)\n",
    "pd4 = pd.DataFrame({\"Accuracy 0-500 con slice di 500\":res_s0_e500_r500})\n",
    "pd4"
   ]
  },
  {
   "cell_type": "code",
   "execution_count": 15,
   "metadata": {
    "collapsed": false
   },
   "outputs": [
    {
     "name": "stdout",
     "output_type": "stream",
     "text": [
      "15° Range: 9800 to 10500 most frequent words, Accuracy: 68.04733727810651\n",
      " Grafico 1 in corso...\n"
     ]
    },
    {
     "data": {
      "image/png": "[encoded data removed]",
      "text/plain": [
       "<matplotlib.figure.Figure at 0xf36be3dcf8>"
      ]
     },
     "metadata": {},
     "output_type": "display_data"
    },
    {
     "name": "stdout",
     "output_type": "stream",
     "text": [
      "\n",
      " Grafico 2 in corso...\n"
     ]
    },
    {
     "data": {
      "image/png": "[encoded data removed]",
      "text/plain": [
       "<matplotlib.figure.Figure at 0xf36be41630>"
      ]
     },
     "metadata": {},
     "output_type": "display_data"
    },
    {
     "data": {
      "text/html": [
       "<div>\n",
       "<style scoped>\n",
       "    .dataframe tbody tr th:only-of-type {\n",
       "        vertical-align: middle;\n",
       "    }\n",
       "\n",
       "    .dataframe tbody tr th {\n",
       "        vertical-align: top;\n",
       "    }\n",
       "\n",
       "    .dataframe thead th {\n",
       "        text-align: right;\n",
       "    }\n",
       "</style>\n",
       "<table border=\"1\" class=\"dataframe\">\n",
       "  <thead>\n",
       "    <tr style=\"text-align: right;\">\n",
       "      <th></th>\n",
       "      <th>Accuracy 0-700 con slice di 700</th>\n",
       "    </tr>\n",
       "  </thead>\n",
       "  <tbody>\n",
       "    <tr>\n",
       "      <th>0</th>\n",
       "      <td>89.053254</td>\n",
       "    </tr>\n",
       "    <tr>\n",
       "      <th>1</th>\n",
       "      <td>85.798817</td>\n",
       "    </tr>\n",
       "    <tr>\n",
       "      <th>2</th>\n",
       "      <td>84.911243</td>\n",
       "    </tr>\n",
       "    <tr>\n",
       "      <th>3</th>\n",
       "      <td>80.177515</td>\n",
       "    </tr>\n",
       "    <tr>\n",
       "      <th>4</th>\n",
       "      <td>78.205128</td>\n",
       "    </tr>\n",
       "    <tr>\n",
       "      <th>5</th>\n",
       "      <td>75.936884</td>\n",
       "    </tr>\n",
       "    <tr>\n",
       "      <th>6</th>\n",
       "      <td>70.414201</td>\n",
       "    </tr>\n",
       "    <tr>\n",
       "      <th>7</th>\n",
       "      <td>71.400394</td>\n",
       "    </tr>\n",
       "    <tr>\n",
       "      <th>8</th>\n",
       "      <td>66.074951</td>\n",
       "    </tr>\n",
       "    <tr>\n",
       "      <th>9</th>\n",
       "      <td>65.581854</td>\n",
       "    </tr>\n",
       "    <tr>\n",
       "      <th>10</th>\n",
       "      <td>63.412229</td>\n",
       "    </tr>\n",
       "    <tr>\n",
       "      <th>11</th>\n",
       "      <td>67.751479</td>\n",
       "    </tr>\n",
       "    <tr>\n",
       "      <th>12</th>\n",
       "      <td>63.412229</td>\n",
       "    </tr>\n",
       "    <tr>\n",
       "      <th>13</th>\n",
       "      <td>68.047337</td>\n",
       "    </tr>\n",
       "    <tr>\n",
       "      <th>14</th>\n",
       "      <td>68.047337</td>\n",
       "    </tr>\n",
       "  </tbody>\n",
       "</table>\n",
       "</div>"
      ],
      "text/plain": [
       "    Accuracy 0-700 con slice di 700\n",
       "0                         89.053254\n",
       "1                         85.798817\n",
       "2                         84.911243\n",
       "3                         80.177515\n",
       "4                         78.205128\n",
       "5                         75.936884\n",
       "6                         70.414201\n",
       "7                         71.400394\n",
       "8                         66.074951\n",
       "9                         65.581854\n",
       "10                        63.412229\n",
       "11                        67.751479\n",
       "12                        63.412229\n",
       "13                        68.047337\n",
       "14                        68.047337"
      ]
     },
     "execution_count": 15,
     "metadata": {},
     "output_type": "execute_result"
    }
   ],
   "source": [
    "a = 0\n",
    "b = 700\n",
    "r = 700\n",
    "count = 15\n",
    "res_s0_e700_r700 = []\n",
    "dibujar(test_Accuracy(a,b,r,count,res_s0_e700_r700,True),count,r)\n",
    "pd5 = pd.DataFrame({\"Accuracy 0-700 con slice di 700\":res_s0_e700_r700})\n",
    "pd5"
   ]
  },
  {
   "cell_type": "code",
   "execution_count": 16,
   "metadata": {
    "collapsed": false
   },
   "outputs": [
    {
     "name": "stdout",
     "output_type": "stream",
     "text": [
      "15° Range: 14000 to 15000 most frequent words, Accuracy: 50.39447731755424\n",
      " Grafico 1 in corso...\n"
     ]
    },
    {
     "data": {
      "image/png": "[encoded data removed]",
      "text/plain": [
       "<matplotlib.figure.Figure at 0xf30d3b1f60>"
      ]
     },
     "metadata": {},
     "output_type": "display_data"
    },
    {
     "name": "stdout",
     "output_type": "stream",
     "text": [
      "\n",
      " Grafico 2 in corso...\n"
     ]
    },
    {
     "data": {
      "image/png": "[encoded data removed]",
      "text/plain": [
       "<matplotlib.figure.Figure at 0xf36bde31d0>"
      ]
     },
     "metadata": {},
     "output_type": "display_data"
    },
    {
     "data": {
      "text/html": [
       "<div>\n",
       "<style scoped>\n",
       "    .dataframe tbody tr th:only-of-type {\n",
       "        vertical-align: middle;\n",
       "    }\n",
       "\n",
       "    .dataframe tbody tr th {\n",
       "        vertical-align: top;\n",
       "    }\n",
       "\n",
       "    .dataframe thead th {\n",
       "        text-align: right;\n",
       "    }\n",
       "</style>\n",
       "<table border=\"1\" class=\"dataframe\">\n",
       "  <thead>\n",
       "    <tr style=\"text-align: right;\">\n",
       "      <th></th>\n",
       "      <th>Accuracy 0-1000 con slice di 1000</th>\n",
       "    </tr>\n",
       "  </thead>\n",
       "  <tbody>\n",
       "    <tr>\n",
       "      <th>0</th>\n",
       "      <td>89.546351</td>\n",
       "    </tr>\n",
       "    <tr>\n",
       "      <th>1</th>\n",
       "      <td>84.615385</td>\n",
       "    </tr>\n",
       "    <tr>\n",
       "      <th>2</th>\n",
       "      <td>83.136095</td>\n",
       "    </tr>\n",
       "    <tr>\n",
       "      <th>3</th>\n",
       "      <td>79.585799</td>\n",
       "    </tr>\n",
       "    <tr>\n",
       "      <th>4</th>\n",
       "      <td>71.794872</td>\n",
       "    </tr>\n",
       "    <tr>\n",
       "      <th>5</th>\n",
       "      <td>67.258383</td>\n",
       "    </tr>\n",
       "    <tr>\n",
       "      <th>6</th>\n",
       "      <td>65.285996</td>\n",
       "    </tr>\n",
       "    <tr>\n",
       "      <th>7</th>\n",
       "      <td>65.384615</td>\n",
       "    </tr>\n",
       "    <tr>\n",
       "      <th>8</th>\n",
       "      <td>62.919132</td>\n",
       "    </tr>\n",
       "    <tr>\n",
       "      <th>9</th>\n",
       "      <td>67.357002</td>\n",
       "    </tr>\n",
       "    <tr>\n",
       "      <th>10</th>\n",
       "      <td>68.047337</td>\n",
       "    </tr>\n",
       "    <tr>\n",
       "      <th>11</th>\n",
       "      <td>67.258383</td>\n",
       "    </tr>\n",
       "    <tr>\n",
       "      <th>12</th>\n",
       "      <td>53.944773</td>\n",
       "    </tr>\n",
       "    <tr>\n",
       "      <th>13</th>\n",
       "      <td>66.666667</td>\n",
       "    </tr>\n",
       "    <tr>\n",
       "      <th>14</th>\n",
       "      <td>50.394477</td>\n",
       "    </tr>\n",
       "  </tbody>\n",
       "</table>\n",
       "</div>"
      ],
      "text/plain": [
       "    Accuracy 0-1000 con slice di 1000\n",
       "0                           89.546351\n",
       "1                           84.615385\n",
       "2                           83.136095\n",
       "3                           79.585799\n",
       "4                           71.794872\n",
       "5                           67.258383\n",
       "6                           65.285996\n",
       "7                           65.384615\n",
       "8                           62.919132\n",
       "9                           67.357002\n",
       "10                          68.047337\n",
       "11                          67.258383\n",
       "12                          53.944773\n",
       "13                          66.666667\n",
       "14                          50.394477"
      ]
     },
     "execution_count": 16,
     "metadata": {},
     "output_type": "execute_result"
    }
   ],
   "source": [
    "a = 0\n",
    "b = 1000\n",
    "r = 1000\n",
    "count = 15\n",
    "res_s0_e1000_r1000 = []\n",
    "dibujar(test_Accuracy(a,b,r,count,res_s0_e1000_r1000,True),count,r)\n",
    "pd6 = pd.DataFrame({\"Accuracy 0-1000 con slice di 1000\":res_s0_e1000_r1000})\n",
    "pd6"
   ]
  },
  {
   "cell_type": "code",
   "execution_count": 32,
   "metadata": {
    "collapsed": false
   },
   "outputs": [
    {
     "data": {
      "text/html": [
       "<div>\n",
       "<style scoped>\n",
       "    .dataframe tbody tr th:only-of-type {\n",
       "        vertical-align: middle;\n",
       "    }\n",
       "\n",
       "    .dataframe tbody tr th {\n",
       "        vertical-align: top;\n",
       "    }\n",
       "\n",
       "    .dataframe thead th {\n",
       "        text-align: right;\n",
       "    }\n",
       "</style>\n",
       "<table border=\"1\" class=\"dataframe\">\n",
       "  <thead>\n",
       "    <tr style=\"text-align: right;\">\n",
       "      <th></th>\n",
       "      <th>Accuracy Accuracy 0-500 con slice 100</th>\n",
       "      <th>Accuracy 0-700 con slice 100</th>\n",
       "      <th>Accuracy 0-500 con slice 500 incrementale</th>\n",
       "      <th>Accuracy 0-500 con slice di 500</th>\n",
       "      <th>Accuracy 0-700 con slice di 700</th>\n",
       "      <th>Accuracy 0-1000 con slice di 1000</th>\n",
       "    </tr>\n",
       "  </thead>\n",
       "  <tbody>\n",
       "    <tr>\n",
       "      <th>0</th>\n",
       "      <td>89.053254</td>\n",
       "      <td>89.053254</td>\n",
       "      <td>89.053254</td>\n",
       "      <td>89.053254</td>\n",
       "      <td>89.053254</td>\n",
       "      <td>89.546351</td>\n",
       "    </tr>\n",
       "    <tr>\n",
       "      <th>1</th>\n",
       "      <td>87.968442</td>\n",
       "      <td>88.658777</td>\n",
       "      <td>89.546351</td>\n",
       "      <td>88.067061</td>\n",
       "      <td>85.798817</td>\n",
       "      <td>84.615385</td>\n",
       "    </tr>\n",
       "    <tr>\n",
       "      <th>2</th>\n",
       "      <td>88.165680</td>\n",
       "      <td>88.362919</td>\n",
       "      <td>89.250493</td>\n",
       "      <td>82.544379</td>\n",
       "      <td>84.911243</td>\n",
       "      <td>83.136095</td>\n",
       "    </tr>\n",
       "    <tr>\n",
       "      <th>3</th>\n",
       "      <td>88.362919</td>\n",
       "      <td>88.658777</td>\n",
       "      <td>88.658777</td>\n",
       "      <td>82.051282</td>\n",
       "      <td>80.177515</td>\n",
       "      <td>79.585799</td>\n",
       "    </tr>\n",
       "    <tr>\n",
       "      <th>4</th>\n",
       "      <td>88.461538</td>\n",
       "      <td>88.264300</td>\n",
       "      <td>88.264300</td>\n",
       "      <td>81.163708</td>\n",
       "      <td>78.205128</td>\n",
       "      <td>71.794872</td>\n",
       "    </tr>\n",
       "    <tr>\n",
       "      <th>5</th>\n",
       "      <td>88.067061</td>\n",
       "      <td>87.869822</td>\n",
       "      <td>88.264300</td>\n",
       "      <td>78.402367</td>\n",
       "      <td>75.936884</td>\n",
       "      <td>67.258383</td>\n",
       "    </tr>\n",
       "    <tr>\n",
       "      <th>6</th>\n",
       "      <td>86.785010</td>\n",
       "      <td>86.785010</td>\n",
       "      <td>88.461538</td>\n",
       "      <td>76.232742</td>\n",
       "      <td>70.414201</td>\n",
       "      <td>65.285996</td>\n",
       "    </tr>\n",
       "    <tr>\n",
       "      <th>7</th>\n",
       "      <td>86.489152</td>\n",
       "      <td>85.798817</td>\n",
       "      <td>88.658777</td>\n",
       "      <td>75.443787</td>\n",
       "      <td>71.400394</td>\n",
       "      <td>65.384615</td>\n",
       "    </tr>\n",
       "    <tr>\n",
       "      <th>8</th>\n",
       "      <td>85.108481</td>\n",
       "      <td>85.207101</td>\n",
       "      <td>88.362919</td>\n",
       "      <td>71.597633</td>\n",
       "      <td>66.074951</td>\n",
       "      <td>62.919132</td>\n",
       "    </tr>\n",
       "    <tr>\n",
       "      <th>9</th>\n",
       "      <td>83.826430</td>\n",
       "      <td>84.615385</td>\n",
       "      <td>88.165680</td>\n",
       "      <td>72.386588</td>\n",
       "      <td>65.581854</td>\n",
       "      <td>67.357002</td>\n",
       "    </tr>\n",
       "    <tr>\n",
       "      <th>10</th>\n",
       "      <td>82.544379</td>\n",
       "      <td>83.925049</td>\n",
       "      <td>88.165680</td>\n",
       "      <td>69.526627</td>\n",
       "      <td>63.412229</td>\n",
       "      <td>68.047337</td>\n",
       "    </tr>\n",
       "    <tr>\n",
       "      <th>11</th>\n",
       "      <td>84.516765</td>\n",
       "      <td>84.122288</td>\n",
       "      <td>87.771203</td>\n",
       "      <td>65.483235</td>\n",
       "      <td>67.751479</td>\n",
       "      <td>67.258383</td>\n",
       "    </tr>\n",
       "    <tr>\n",
       "      <th>12</th>\n",
       "      <td>84.220907</td>\n",
       "      <td>84.122288</td>\n",
       "      <td>87.771203</td>\n",
       "      <td>66.074951</td>\n",
       "      <td>63.412229</td>\n",
       "      <td>53.944773</td>\n",
       "    </tr>\n",
       "    <tr>\n",
       "      <th>13</th>\n",
       "      <td>82.544379</td>\n",
       "      <td>84.023669</td>\n",
       "      <td>87.573964</td>\n",
       "      <td>64.102564</td>\n",
       "      <td>68.047337</td>\n",
       "      <td>66.666667</td>\n",
       "    </tr>\n",
       "    <tr>\n",
       "      <th>14</th>\n",
       "      <td>82.840237</td>\n",
       "      <td>84.911243</td>\n",
       "      <td>87.672584</td>\n",
       "      <td>63.905325</td>\n",
       "      <td>68.047337</td>\n",
       "      <td>50.394477</td>\n",
       "    </tr>\n",
       "  </tbody>\n",
       "</table>\n",
       "</div>"
      ],
      "text/plain": [
       "    Accuracy Accuracy 0-500 con slice 100  Accuracy 0-700 con slice 100  \\\n",
       "0                               89.053254                     89.053254   \n",
       "1                               87.968442                     88.658777   \n",
       "2                               88.165680                     88.362919   \n",
       "3                               88.362919                     88.658777   \n",
       "4                               88.461538                     88.264300   \n",
       "5                               88.067061                     87.869822   \n",
       "6                               86.785010                     86.785010   \n",
       "7                               86.489152                     85.798817   \n",
       "8                               85.108481                     85.207101   \n",
       "9                               83.826430                     84.615385   \n",
       "10                              82.544379                     83.925049   \n",
       "11                              84.516765                     84.122288   \n",
       "12                              84.220907                     84.122288   \n",
       "13                              82.544379                     84.023669   \n",
       "14                              82.840237                     84.911243   \n",
       "\n",
       "    Accuracy 0-500 con slice 500 incrementale  \\\n",
       "0                                   89.053254   \n",
       "1                                   89.546351   \n",
       "2                                   89.250493   \n",
       "3                                   88.658777   \n",
       "4                                   88.264300   \n",
       "5                                   88.264300   \n",
       "6                                   88.461538   \n",
       "7                                   88.658777   \n",
       "8                                   88.362919   \n",
       "9                                   88.165680   \n",
       "10                                  88.165680   \n",
       "11                                  87.771203   \n",
       "12                                  87.771203   \n",
       "13                                  87.573964   \n",
       "14                                  87.672584   \n",
       "\n",
       "    Accuracy 0-500 con slice di 500  Accuracy 0-700 con slice di 700  \\\n",
       "0                         89.053254                        89.053254   \n",
       "1                         88.067061                        85.798817   \n",
       "2                         82.544379                        84.911243   \n",
       "3                         82.051282                        80.177515   \n",
       "4                         81.163708                        78.205128   \n",
       "5                         78.402367                        75.936884   \n",
       "6                         76.232742                        70.414201   \n",
       "7                         75.443787                        71.400394   \n",
       "8                         71.597633                        66.074951   \n",
       "9                         72.386588                        65.581854   \n",
       "10                        69.526627                        63.412229   \n",
       "11                        65.483235                        67.751479   \n",
       "12                        66.074951                        63.412229   \n",
       "13                        64.102564                        68.047337   \n",
       "14                        63.905325                        68.047337   \n",
       "\n",
       "    Accuracy 0-1000 con slice di 1000  \n",
       "0                           89.546351  \n",
       "1                           84.615385  \n",
       "2                           83.136095  \n",
       "3                           79.585799  \n",
       "4                           71.794872  \n",
       "5                           67.258383  \n",
       "6                           65.285996  \n",
       "7                           65.384615  \n",
       "8                           62.919132  \n",
       "9                           67.357002  \n",
       "10                          68.047337  \n",
       "11                          67.258383  \n",
       "12                          53.944773  \n",
       "13                          66.666667  \n",
       "14                          50.394477  "
      ]
     },
     "execution_count": 32,
     "metadata": {},
     "output_type": "execute_result"
    }
   ],
   "source": [
    "pd1.join(pd2).join(pd3).join(pd4).join(pd5).join(pd6)"
   ]
  },
  {
   "cell_type": "markdown",
   "metadata": {},
   "source": [
    "La tabella riassuntiva dell'accuratezza del modello: si nota come essa varia in maniera limitata quando considera le feature a massima frequenza, mentre cala in maniera vistosa quando la classificazione si effettua su feature con frequenza più bassa.\n",
    "Con un dataset preprocessato, le distribuzioni sono più robuste, ovvero vi è meno margine di variazione, rispetto a un dataset non preprocessato."
   ]
  },
  {
   "cell_type": "code",
   "execution_count": 44,
   "metadata": {
    "collapsed": false
   },
   "outputs": [
    {
     "data": {
      "image/png": "[encoded data removed]",
      "text/plain": [
       "<matplotlib.figure.Figure at 0xf305d4b780>"
      ]
     },
     "metadata": {},
     "output_type": "display_data"
    }
   ],
   "source": [
    "import matplotlib.pyplot as plt\n",
    "import numpy as np\n",
    "p = res_s0_e500_r500 + res_s0_e700_r700 + res_s0_e1000_r1000 + res_s0_e500_r500_incremental + res_s0_e500_r100 + res_s0_e700_r100\n",
    "\n",
    "maximo = 0\n",
    "for i in p:\n",
    "    if (i > maximo):\n",
    "        maximo = i\n",
    "        \n",
    "fig = plt.figure(1)\n",
    "ax = fig.add_subplot(111)\n",
    "plt.title('Testing Accuracy POS')\n",
    "\n",
    "ax.plot(res_s0_e500_r500, label='r:500')\n",
    "ax.plot(res_s0_e700_r700, label='r:700')\n",
    "ax.plot(res_s0_e1000_r1000, label='r:1000')\n",
    "ax.plot(res_s0_e500_r500_incremental, label='r:500 incr.')\n",
    "ax.plot(res_s0_e500_r100, label='r:500 100 incr.')\n",
    "ax.plot(res_s0_e700_r100, label='r:700 100 incr.')\n",
    "ax.plot(10,range_data,'bo', label='dataset accuracy:\\n{}'.format(round(range_data,2)))\n",
    "ax.plot(1,maximo,'ro', label='max accuracy:\\n{}'.format(round(maximo,2)))\n",
    "handles,labels = ax.get_legend_handles_labels()\n",
    "lgd = ax.legend(handles,labels,loc='right', bbox_to_anchor=(1.4,0.5),borderaxespad=0)\n",
    "plt.show()\n",
    "\n",
    "fig.savefig(\"Testing_Accuracy_POS\",bbox_extra_artists=(lgd,), bbox_inches='tight',dpi=400)"
   ]
  },
  {
   "cell_type": "markdown",
   "metadata": {},
   "source": [
    "Il grafico mostra come, allontanandosi dalle feature iniziali, l'accuratezza diminuisce, mentre gli slice di accuratezza migliore considerano parole ad alta frequenza. \n",
    "Il risultato di questo 'slicing' ci porta ad osservare che l'accuratezza migliore è di 89.55% riscontrata nella sezione 0-1000."
   ]
  },
  {
   "cell_type": "markdown",
   "metadata": {},
   "source": [
    "L'obbiettivo è sempre quello di migliorare la classificazione, aggiustando la finestra ideale di feature nella quale effettuare la classificazione. A scaglioni di 50 feature, si verifica l'accuratezza del modello sulla base dati equivalente."
   ]
  },
  {
   "cell_type": "code",
   "execution_count": 26,
   "metadata": {
    "collapsed": true
   },
   "outputs": [],
   "source": [
    "def document_featureshuffle(document,principio,final):\n",
    "    document_words=set(document)\n",
    "    features={}\n",
    "    word_features=[x for (x,_) in listaFreq.most_common()[principio:final]]\n",
    "    random.shuffle(word_features)\n",
    "    random.shuffle(word_features)\n",
    "    for word in word_features:\n",
    "        features[\"contains({})\".format(word)]=(word in document_words)\n",
    "    return features"
   ]
  },
  {
   "cell_type": "code",
   "execution_count": 46,
   "metadata": {
    "collapsed": false
   },
   "outputs": [
    {
     "name": "stdout",
     "output_type": "stream",
     "text": [
      "\n",
      "From 0 to 1000: from the end up to 50 words\n",
      "10° slice: from 0 to 1450, accuracy: 89.05325443786982\n",
      "From 1000 to 0: from the end down to 50 words\n",
      "10° slice: from 0 to 550, accuracy: 89.05325443786982\n",
      "From 0 to 1000: from the beginning up to 50 words\n",
      "10° slice: from 450 to 1000, accuracy: 89.3491124260355"
     ]
    }
   ],
   "source": [
    "begin = 0\n",
    "final = 1000\n",
    "final_more = []\n",
    "final_less = []\n",
    "\n",
    "\n",
    "begin_more = []\n",
    "begin_less = []\n",
    "count = 10\n",
    "hace = True\n",
    "jump = 50\n",
    "if (begin==0):\n",
    "    hace = False\n",
    "i = 1\n",
    "print(\"\\nFrom {} to {}: from the end up to {} words\".format(begin,final,jump))\n",
    "while i <= count:\n",
    "    featuresets_doc=[(document_featureshuffle(d,begin,final), c) for (d, c) in corpus_tagged]\n",
    "    size = int(len(featuresets_doc) * 0.9)\n",
    "    train_set_doc, test_set_doc = featuresets_doc[size:], featuresets_doc[:size]\n",
    "    classifier_doc=nltk.NaiveBayesClassifier.train(train_set_doc)\n",
    "    print(\"\\r{}° slice: from {} to {}, accuracy: {}\".format(i,begin,final,nltk.classify.accuracy(classifier_doc, test_set_doc)*100),end='')\n",
    "    final_more.append(nltk.classify.accuracy(classifier_doc, test_set_doc)*100)\n",
    "    final = final + jump\n",
    "    i = i+1\n",
    "pd_end_up = pd.DataFrame({\"Accuracy end up to 50\":final_more})\n",
    "\n",
    "begin = 0\n",
    "final = 1000\n",
    "i = 1\n",
    "print(\"\\nFrom {} to {}: from the end down to {} words\".format(final,begin,jump))\n",
    "while i <= count:\n",
    "    featuresets_doc=[(document_featureshuffle(d,begin,final), c) for (d, c) in corpus_tagged]\n",
    "    size = int(len(featuresets_doc) * 0.9)\n",
    "    train_set_doc, test_set_doc = featuresets_doc[size:], featuresets_doc[:size]\n",
    "    classifier_doc=nltk.NaiveBayesClassifier.train(train_set_doc)\n",
    "    print(\"\\r{}° slice: from {} to {}, accuracy: {}\".format(i,begin,final,nltk.classify.accuracy(classifier_doc,test_set_doc)*100),end='')\n",
    "    final_less.append(nltk.classify.accuracy(classifier_doc, test_set_doc)*100)\n",
    "    final = final - jump\n",
    "    i = i+1 \n",
    "pd_end_down = pd.DataFrame({\"Accuracy end down to 50\":final_less})\n",
    "\n",
    "begin = 0\n",
    "final = 1000\n",
    "i = 1    \n",
    "print(\"\\nFrom {} to {}: from the beginning up to {} words\".format(begin,final,jump))\n",
    "while i <= count:\n",
    "    featuresets_doc=[(document_featureshuffle(d,begin,final), c) for (d, c) in corpus_tagged]\n",
    "    size = int(len(featuresets_doc) * 0.9)\n",
    "    train_set_doc, test_set_doc = featuresets_doc[size:], featuresets_doc[:size]\n",
    "    classifier_doc=nltk.NaiveBayesClassifier.train(train_set_doc)\n",
    "    print(\"\\r{}° slice: from {} to {}, accuracy: {}\".format(i,begin,final,nltk.classify.accuracy(classifier_doc, test_set_doc)*100),end='')\n",
    "    begin_more.append(nltk.classify.accuracy(classifier_doc, test_set_doc)*100)\n",
    "    begin = begin + 50\n",
    "    i = i+1\n",
    "pd_begin_up = pd.DataFrame({\"Accuracy begin up to 50\":begin_more})\n",
    "\n",
    "begin = 0\n",
    "final = 1000\n",
    "i = 1\n",
    "if (hace):\n",
    "    print(\"\\nFrom {} to {}: from the beginning down of {} words\".format(final,begin - jump*10,jump))\n",
    "    while i <= count:\n",
    "            featuresets_doc=[(document_featureshuffle(d,begin,final), c) for (d, c) in corpus_tagged]\n",
    "            size = int(len(featuresets_doc) * 0.9)\n",
    "            train_set_doc, test_set_doc = featuresets_doc[size:], featuresets_doc[:size]\n",
    "            classifier_doc=nltk.NaiveBayesClassifier.train(train_set_doc)\n",
    "            print(\"\\r{}° slice: from {} to {}, accuracy: {}\".format(i,begin,final,nltk.classify.accuracy(classifier_doc, test_set_doc)*100),end='')\n",
    "            begin_less.append(nltk.classify.accuracy(classifier_doc, test_set_doc)*100)\n",
    "            begin = begin - 50\n",
    "            i = i+1\n",
    "    pd_begin_down = pd.DataFrame({\"Accuracy begin down to 50\":begin_less})\n",
    "else:\n",
    "    pd_begin_down = pd.DataFrame({\"Accuracy begin down to 50\":[]})"
   ]
  },
  {
   "cell_type": "code",
   "execution_count": 47,
   "metadata": {
    "collapsed": false
   },
   "outputs": [
    {
     "data": {
      "text/html": [
       "<div>\n",
       "<style scoped>\n",
       "    .dataframe tbody tr th:only-of-type {\n",
       "        vertical-align: middle;\n",
       "    }\n",
       "\n",
       "    .dataframe tbody tr th {\n",
       "        vertical-align: top;\n",
       "    }\n",
       "\n",
       "    .dataframe thead th {\n",
       "        text-align: right;\n",
       "    }\n",
       "</style>\n",
       "<table border=\"1\" class=\"dataframe\">\n",
       "  <thead>\n",
       "    <tr style=\"text-align: right;\">\n",
       "      <th></th>\n",
       "      <th>Accuracy end up to 50</th>\n",
       "      <th>Accuracy end down to 50</th>\n",
       "      <th>Accuracy begin up to 50</th>\n",
       "      <th>Accuracy begin down to 50</th>\n",
       "    </tr>\n",
       "  </thead>\n",
       "  <tbody>\n",
       "    <tr>\n",
       "      <th>0</th>\n",
       "      <td>89.546351</td>\n",
       "      <td>89.546351</td>\n",
       "      <td>89.546351</td>\n",
       "      <td>NaN</td>\n",
       "    </tr>\n",
       "    <tr>\n",
       "      <th>1</th>\n",
       "      <td>89.546351</td>\n",
       "      <td>89.250493</td>\n",
       "      <td>88.757396</td>\n",
       "      <td>NaN</td>\n",
       "    </tr>\n",
       "    <tr>\n",
       "      <th>2</th>\n",
       "      <td>89.546351</td>\n",
       "      <td>89.546351</td>\n",
       "      <td>88.856016</td>\n",
       "      <td>NaN</td>\n",
       "    </tr>\n",
       "    <tr>\n",
       "      <th>3</th>\n",
       "      <td>89.644970</td>\n",
       "      <td>89.447732</td>\n",
       "      <td>88.461538</td>\n",
       "      <td>NaN</td>\n",
       "    </tr>\n",
       "    <tr>\n",
       "      <th>4</th>\n",
       "      <td>89.447732</td>\n",
       "      <td>89.250493</td>\n",
       "      <td>88.362919</td>\n",
       "      <td>NaN</td>\n",
       "    </tr>\n",
       "    <tr>\n",
       "      <th>5</th>\n",
       "      <td>89.053254</td>\n",
       "      <td>89.447732</td>\n",
       "      <td>88.165680</td>\n",
       "      <td>NaN</td>\n",
       "    </tr>\n",
       "    <tr>\n",
       "      <th>6</th>\n",
       "      <td>88.757396</td>\n",
       "      <td>89.053254</td>\n",
       "      <td>88.658777</td>\n",
       "      <td>NaN</td>\n",
       "    </tr>\n",
       "    <tr>\n",
       "      <th>7</th>\n",
       "      <td>88.856016</td>\n",
       "      <td>89.053254</td>\n",
       "      <td>88.362919</td>\n",
       "      <td>NaN</td>\n",
       "    </tr>\n",
       "    <tr>\n",
       "      <th>8</th>\n",
       "      <td>88.856016</td>\n",
       "      <td>89.151874</td>\n",
       "      <td>88.165680</td>\n",
       "      <td>NaN</td>\n",
       "    </tr>\n",
       "    <tr>\n",
       "      <th>9</th>\n",
       "      <td>89.053254</td>\n",
       "      <td>89.053254</td>\n",
       "      <td>89.349112</td>\n",
       "      <td>NaN</td>\n",
       "    </tr>\n",
       "  </tbody>\n",
       "</table>\n",
       "</div>"
      ],
      "text/plain": [
       "   Accuracy end up to 50  Accuracy end down to 50  Accuracy begin up to 50  \\\n",
       "0              89.546351                89.546351                89.546351   \n",
       "1              89.546351                89.250493                88.757396   \n",
       "2              89.546351                89.546351                88.856016   \n",
       "3              89.644970                89.447732                88.461538   \n",
       "4              89.447732                89.250493                88.362919   \n",
       "5              89.053254                89.447732                88.165680   \n",
       "6              88.757396                89.053254                88.658777   \n",
       "7              88.856016                89.053254                88.362919   \n",
       "8              88.856016                89.151874                88.165680   \n",
       "9              89.053254                89.053254                89.349112   \n",
       "\n",
       "   Accuracy begin down to 50  \n",
       "0                        NaN  \n",
       "1                        NaN  \n",
       "2                        NaN  \n",
       "3                        NaN  \n",
       "4                        NaN  \n",
       "5                        NaN  \n",
       "6                        NaN  \n",
       "7                        NaN  \n",
       "8                        NaN  \n",
       "9                        NaN  "
      ]
     },
     "execution_count": 47,
     "metadata": {},
     "output_type": "execute_result"
    }
   ],
   "source": [
    "pd_end_up.join(pd_end_down).join(pd_begin_up).join(pd_begin_down)"
   ]
  },
  {
   "cell_type": "markdown",
   "metadata": {},
   "source": [
    "Si noti come l'ultima colonna sia vuota in quanto lo slice prende in considerazione tutte le parole a massima frequenza, quindi non vi è possibilità di aggiungerne altre."
   ]
  },
  {
   "cell_type": "code",
   "execution_count": 51,
   "metadata": {
    "collapsed": false,
    "scrolled": true
   },
   "outputs": [
    {
     "data": {
      "image/png": "[encoded data removed]",
      "text/plain": [
       "<matplotlib.figure.Figure at 0xf36de806a0>"
      ]
     },
     "metadata": {},
     "output_type": "display_data"
    }
   ],
   "source": [
    "import matplotlib.pyplot as plt\n",
    "import numpy as np\n",
    "p_ =  final_more+final_less+begin_more+begin_less\n",
    "\n",
    "maximo_ = 0\n",
    "for i in p_:\n",
    "    if (i > maximo_):\n",
    "        maximo_ = i\n",
    "\n",
    "fig = plt.figure(1)\n",
    "ax = fig.add_subplot(111)\n",
    "plt.title('Adjust Accuracy POS')\n",
    "ax.plot(final_more, label=\"Final +50\")\n",
    "ax.plot(final_less, label=\"Final -50\")\n",
    "ax.plot(begin_more, label=\"Begin +50\")\n",
    "ax.plot(begin_less, label=\"Begin -50\")\n",
    "\n",
    "ax.plot(0,maximo,'bo', label='previous accuracy:\\n{}%'.format(round(maximo,2)))\n",
    "ax.plot(3,maximo_,'ro', label='max accuracy:\\n{}%'.format(round(maximo_,2)))\n",
    "\n",
    "handles,labels = ax.get_legend_handles_labels()\n",
    "lgd = ax.legend(handles,labels,loc='right', bbox_to_anchor=(1.4,0.5),borderaxespad=0)\n",
    "plt.show()\n",
    "\n",
    "fig.savefig(\"Adjust_Accuracy_POS\",bbox_extra_artists=(lgd,), bbox_inches='tight', dpi=400)"
   ]
  },
  {
   "cell_type": "markdown",
   "metadata": {},
   "source": [
    "Il grafico mostra come si è raggiunta una accuratezza ancora migliore, nella finestra 0:1150.\n",
    "Dal grafico si evidenzia come, togliendo feature ad alta frequenza dalla classificazione, l'accuratezza scenda drasticamente. "
   ]
  },
  {
   "cell_type": "markdown",
   "metadata": {},
   "source": [
    "In conclusione: analizzando l'andamento dell'accuratezza della classificazione, si nota come la finestra con l'accuratezza maggiore si abbia nello slice di frequenze 0:1150.\n",
    "\n",
    "Si è dimostrato come il preprocessing aumenti l'accuratezza della classificazione, e si è concluso che le parole più utili per la differenziazione tra fake news e legit news si trovano nello slice 0:1150 del dataset, con accuratezza di 89.64%."
   ]
  }
 ],
 "metadata": {
  "celltoolbar": "Raw Cell Format",
  "kernelspec": {
   "display_name": "Python 3",
   "language": "python",
   "name": "python3"
  },
  "language_info": {
   "codemirror_mode": {
    "name": "ipython",
    "version": 3
   },
   "file_extension": ".py",
   "mimetype": "text/x-python",
   "name": "python",
   "nbconvert_exporter": "python",
   "pygments_lexer": "ipython3",
   "version": "3.5.3"
  }
 },
 "nbformat": 4,
 "nbformat_minor": 2
}
